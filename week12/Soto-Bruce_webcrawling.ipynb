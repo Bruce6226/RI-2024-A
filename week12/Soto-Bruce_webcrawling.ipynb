{
 "cells": [
  {
   "metadata": {
    "id": "88b63181c563a666"
   },
   "cell_type": "markdown",
   "source": [
    "# Web Scraping Exercise\n",
    "\n",
    "## 1. Introduction and Planning\n",
    "\n",
    "### Objective:\n",
    "The goal of this exercise is to build a web scraper that collects data from a chosen website. You will learn how to send HTTP requests, parse HTML content, extract relevant data, and store it in a structured format.\n",
    "\n",
    "### Tasks:\n",
    "1. Identify the data you want to scrape.\n",
    "2. Choose the target website(s).\n",
    "3. Plan the structure of your project.\n",
    "\n",
    "### Example:\n",
    "For this exercise, we will scrape job listings from Indeed.com. We will extract job titles, company names, locations, and job descriptions."
   ],
   "id": "88b63181c563a666"
  },
  {
   "metadata": {
    "id": "477cce632174e459"
   },
   "cell_type": "markdown",
   "source": [
    "## 2. Understanding the Target Website\n",
    "### Objective:\n",
    "\n",
    "Analyze the structure of the web pages to be scraped.\n",
    "### Tasks:\n",
    "\n",
    "* Inspect the target website using browser developer tools.\n",
    "* Identify the HTML elements that contain the desired data.\n",
    "\n",
    "### Instructions:\n",
    "\n",
    "* Open your browser and navigate to the target website (e.g., Indeed.com).\n",
    "* Right-click on the webpage and select \"Inspect\" or press Ctrl+Shift+I.\n",
    "* Use the developer tools to explore the HTML structure of the webpage.\n",
    "* Identify the tags and classes of the elements that contain the job titles, company names, locations, and descriptions."
   ],
   "id": "477cce632174e459"
  },
  {
   "metadata": {
    "id": "393d4bc45393e6b5"
   },
   "cell_type": "markdown",
   "source": [
    "## 3. Writing the Scraper\n",
    "### Objective:\n",
    "\n",
    "Develop the code to scrape data from the target website.\n",
    "### Tasks:\n",
    "\n",
    "* Send HTTP requests to the target website.\n",
    "* Parse the HTML content and extract the required data.\n",
    "* Handle pagination to scrape data from multiple pages.\n",
    "* Implement error handling."
   ],
   "id": "393d4bc45393e6b5"
  },
  {
   "cell_type": "markdown",
   "source": [
    "## Step 1: Importación de librerías"
   ],
   "metadata": {
    "id": "udGdAyoqQJ6I"
   },
   "id": "udGdAyoqQJ6I"
  },
  {
   "cell_type": "code",
   "source": [
    "from selenium import webdriver\n",
    "from selenium.webdriver.chrome.service import Service\n",
    "from selenium.webdriver.common.by import By\n",
    "from selenium.webdriver.chrome.options import Options\n",
    "from bs4 import BeautifulSoup\n",
    "import time\n",
    "import csv    \n",
    "import pandas as pd \n"
   ],
   "metadata": {
    "id": "ar_Zd3eeQJsr",
    "ExecuteTime": {
     "end_time": "2024-08-07T05:47:47.685683Z",
     "start_time": "2024-08-07T05:47:47.664770Z"
    }
   },
   "id": "ar_Zd3eeQJsr",
   "outputs": [],
   "execution_count": 7
  },
  {
   "cell_type": "markdown",
   "source": [
    "## Step 2: Enviar solicitudes HTTP al sitio web de destino"
   ],
   "metadata": {
    "id": "IEGxm-_TT-Mx"
   },
   "id": "IEGxm-_TT-Mx"
  },
  {
   "cell_type": "markdown",
   "source": [
    "### Configurar opciones para Selenium\n"
   ],
   "metadata": {
    "id": "2r0vhYxPR1MA"
   },
   "id": "2r0vhYxPR1MA"
  },
  {
   "cell_type": "code",
   "source": [
    "options = Options() #crear una instancia de la clase Options\n",
    "options.add_argument('--headless') #agregamos el argumento '--headless' para que el navegador se ejecute sin interfaz gráfica\n",
    "options.add_argument('--disable-gpu') #agregamos el argumento '--disable-gpu' para desactivar la aceleración por GPU"
   ],
   "metadata": {
    "id": "BtSh370vR0_s",
    "ExecuteTime": {
     "end_time": "2024-08-07T05:43:46.396015Z",
     "start_time": "2024-08-07T05:43:46.376621Z"
    }
   },
   "id": "BtSh370vR0_s",
   "outputs": [],
   "execution_count": 2
  },
  {
   "cell_type": "markdown",
   "source": [
    "### Crear una instancia del navegador\n"
   ],
   "metadata": {
    "id": "YtjXkjZATtON"
   },
   "id": "YtjXkjZATtON"
  },
  {
   "cell_type": "code",
   "source": [
    "!chmod +x /content/sample_data/chromedriver.exe"
   ],
   "metadata": {
    "id": "cDlCDvAQWN19"
   },
   "id": "cDlCDvAQWN19",
   "execution_count": 9,
   "outputs": []
  },
  {
   "cell_type": "code",
   "source": [
    "chrome_driver_path = 'chromedriver.exe'\n",
    "service = Service(chrome_driver_path)\n",
    "driver = webdriver.Chrome(service=service, options=options)"
   ],
   "metadata": {
    "colab": {
     "base_uri": "https://localhost:8080/",
     "height": 356
    },
    "id": "qNMOz8x-Sef0",
    "outputId": "0b81ad82-09f9-461d-db0c-35261e34b401",
    "ExecuteTime": {
     "end_time": "2024-08-07T05:44:22.735400Z",
     "start_time": "2024-08-07T05:44:21.324052Z"
    }
   },
   "id": "qNMOz8x-Sef0",
   "outputs": [],
   "execution_count": 4
  },
  {
   "cell_type": "markdown",
   "source": [
    "### Navegar a la página web"
   ],
   "metadata": {
    "id": "wAfFMi3aUZsy"
   },
   "id": "wAfFMi3aUZsy"
  },
  {
   "cell_type": "code",
   "source": [
    "url = 'https://www.allrecipes.com/recipes/'\n",
    "driver.get(url) #utilizar el controlador del navegador\n",
    "time.sleep(5) #esperar para asegurarse de que la pagina ha cargado completamente"
   ],
   "metadata": {
    "colab": {
     "base_uri": "https://localhost:8080/",
     "height": 176
    },
    "id": "U2OlWSOxUZEX",
    "outputId": "832ad40a-260e-4552-faf3-cc02dc7e33c2",
    "ExecuteTime": {
     "end_time": "2024-08-07T05:44:42.984032Z",
     "start_time": "2024-08-07T05:44:29.096829Z"
    }
   },
   "id": "U2OlWSOxUZEX",
   "outputs": [],
   "execution_count": 5
  },
  {
   "metadata": {},
   "cell_type": "markdown",
   "source": "### Obtener el contenido de la página",
   "id": "9713f7bc246deec7"
  },
  {
   "metadata": {
    "ExecuteTime": {
     "end_time": "2024-08-07T05:46:20.266078Z",
     "start_time": "2024-08-07T05:46:19.273958Z"
    }
   },
   "cell_type": "code",
   "source": [
    "page_source = driver.page_source\n",
    "soup = BeautifulSoup(page_source, 'html.parser') #parsear el contenido HTML de la pagina\n",
    "recipes = soup.find_all('div', class_='comp mntl-taxonomysc-article-list-group mntl-block') #encontrar las recetas en la pagina principal\n"
   ],
   "id": "743b1bf338c17fb6",
   "outputs": [],
   "execution_count": 6
  },
  {
   "metadata": {},
   "cell_type": "markdown",
   "source": "### Guardar el contenido de la página",
   "id": "9b9f5f7c6aaca130"
  },
  {
   "metadata": {
    "ExecuteTime": {
     "end_time": "2024-08-07T06:04:16.043968Z",
     "start_time": "2024-08-07T05:58:28.604283Z"
    }
   },
   "cell_type": "code",
   "source": [
    "with open('recipes.csv', 'w', newline='', encoding='utf-8') as file:\n",
    "    writer = csv.writer(file)\n",
    "    writer.writerow(['Title', 'Description', 'Ingredients', 'Directions', 'Link']) #escribir la fila de cabecera en el archivo CSV\n",
    "    \n",
    "    #extraer toda la informacion\n",
    "    for recipe in recipes:\n",
    "        links = recipe.find_all('a', class_='comp mntl-card-list-items mntl-document-card mntl-card card card--no-image') #Obtener todos los url's de la receta para obtener los ingredientes\n",
    "\n",
    "        for link_element in links:\n",
    "            link = link_element['href']\n",
    "            driver.get(link) #navegar a la pagina de cada receta\n",
    "            time.sleep(5) #esperar para asegurarse de que la pagina ha cargado completamente\n",
    "            #obtener el contenido de la pagina de la receta\n",
    "            recipe_page_source = driver.page_source\n",
    "            recipe_soup = BeautifulSoup(recipe_page_source, 'html.parser')\n",
    "            #obtener el titulo de la receta\n",
    "            titles = recipe_soup.find_all('h1', class_='article-heading type--lion')\n",
    "            recipe_title = titles[0].text.strip() if titles else 'No Title'\n",
    "            #obtener la descripcion de la receta\n",
    "            descriptions = recipe_soup.find_all('p', class_='article-subheading type--dog')\n",
    "            description_text = descriptions[0].text.strip() if descriptions else 'No Description'\n",
    "            #obtener los ingredientes\n",
    "            ingredients = recipe_soup.find_all('li', class_='mm-recipes-structured-ingredients__list-item')\n",
    "            ingredient_list = [ingredient.text.strip() for ingredient in ingredients]\n",
    "            #obtener las instrucciones\n",
    "            directions = recipe_soup.find_all('p', class_='comp mntl-sc-block mntl-sc-block-html')    \n",
    "            direction_list = [direction.text.strip() for direction in directions]\n",
    "            #escribir la informacion de la receta en el archivo CSV\n",
    "            writer.writerow([recipe_title, description_text, ingredient_list, direction_list, link])\n",
    "            \n",
    "file.close() #cerrar el csv\n",
    "driver.quit() #cerrar el navegador"
   ],
   "id": "abcf494858ab80b",
   "outputs": [],
   "execution_count": 9
  },
  {
   "metadata": {},
   "cell_type": "markdown",
   "source": "### Acceder al contenido del CSV",
   "id": "fcda0679671aa370"
  },
  {
   "metadata": {
    "ExecuteTime": {
     "end_time": "2024-08-07T06:54:15.541123Z",
     "start_time": "2024-08-07T06:54:15.469818Z"
    }
   },
   "cell_type": "code",
   "source": [
    "df_recipes = pd.read_csv('recipes.csv') #leer el archivo csv\n",
    "df_recipes.head() #muestra las 5 primeras filas del dataframe"
   ],
   "id": "c79d8e16909cc380",
   "outputs": [
    {
     "data": {
      "text/plain": [
       "                                  Title  \\\n",
       "0       Raspberry and Strawberry Buckle   \n",
       "1  Copycat Panda Express Orange Chicken   \n",
       "2          Plant Based Cheese Sprinkles   \n",
       "3                   Honey Roasted Beets   \n",
       "4                 Spiral Cucumber Salad   \n",
       "\n",
       "                                         Description  \\\n",
       "0  I've always called this a buckle (I'm from the...   \n",
       "1  Try this copycat recipe to make Panda Express ...   \n",
       "2  These plant-based cheese sprinkles came about ...   \n",
       "3  These honey roasted beets combine the natural ...   \n",
       "4  This spiral cucumber salad features a sesame o...   \n",
       "\n",
       "                                         Ingredients  \\\n",
       "0  ['½ cup butter, softened', '½ cup white sugar'...   \n",
       "1  ['2 cups flour', '1/2 cup cornstarch', '2 teas...   \n",
       "2  ['1/2 cup cashews', '1/2 cup nutritional yeast...   \n",
       "3  ['3 large beets', '1 tablespoon olive oil', '1...   \n",
       "4  ['6 to 8 mini seedless cucumbers', '1/2 yellow...   \n",
       "\n",
       "                                          Directions  \\\n",
       "0  ['Preheat oven to 375 degrees F (190 degrees C...   \n",
       "1  ['Whisk together flour, cornstarch, salt, and ...   \n",
       "2  ['Place cashews in a food processor. Pulse unt...   \n",
       "3  ['Preheat the oven to 375 degrees F (190 degre...   \n",
       "4  ['Place cucumber between two chopsticks or woo...   \n",
       "\n",
       "                                                Link  \n",
       "0  https://www.allrecipes.com/recipe/7603/raspber...  \n",
       "1  https://www.allrecipes.com/copycat-panda-expre...  \n",
       "2  https://www.allrecipes.com/plant-based-cheese-...  \n",
       "3  https://www.allrecipes.com/honey-roasted-beets...  \n",
       "4  https://www.allrecipes.com/spiral-cucumber-sal...  "
      ],
      "text/html": [
       "<div>\n",
       "<style scoped>\n",
       "    .dataframe tbody tr th:only-of-type {\n",
       "        vertical-align: middle;\n",
       "    }\n",
       "\n",
       "    .dataframe tbody tr th {\n",
       "        vertical-align: top;\n",
       "    }\n",
       "\n",
       "    .dataframe thead th {\n",
       "        text-align: right;\n",
       "    }\n",
       "</style>\n",
       "<table border=\"1\" class=\"dataframe\">\n",
       "  <thead>\n",
       "    <tr style=\"text-align: right;\">\n",
       "      <th></th>\n",
       "      <th>Title</th>\n",
       "      <th>Description</th>\n",
       "      <th>Ingredients</th>\n",
       "      <th>Directions</th>\n",
       "      <th>Link</th>\n",
       "    </tr>\n",
       "  </thead>\n",
       "  <tbody>\n",
       "    <tr>\n",
       "      <th>0</th>\n",
       "      <td>Raspberry and Strawberry Buckle</td>\n",
       "      <td>I've always called this a buckle (I'm from the...</td>\n",
       "      <td>['½ cup butter, softened', '½ cup white sugar'...</td>\n",
       "      <td>['Preheat oven to 375 degrees F (190 degrees C...</td>\n",
       "      <td>https://www.allrecipes.com/recipe/7603/raspber...</td>\n",
       "    </tr>\n",
       "    <tr>\n",
       "      <th>1</th>\n",
       "      <td>Copycat Panda Express Orange Chicken</td>\n",
       "      <td>Try this copycat recipe to make Panda Express ...</td>\n",
       "      <td>['2 cups flour', '1/2 cup cornstarch', '2 teas...</td>\n",
       "      <td>['Whisk together flour, cornstarch, salt, and ...</td>\n",
       "      <td>https://www.allrecipes.com/copycat-panda-expre...</td>\n",
       "    </tr>\n",
       "    <tr>\n",
       "      <th>2</th>\n",
       "      <td>Plant Based Cheese Sprinkles</td>\n",
       "      <td>These plant-based cheese sprinkles came about ...</td>\n",
       "      <td>['1/2 cup cashews', '1/2 cup nutritional yeast...</td>\n",
       "      <td>['Place cashews in a food processor. Pulse unt...</td>\n",
       "      <td>https://www.allrecipes.com/plant-based-cheese-...</td>\n",
       "    </tr>\n",
       "    <tr>\n",
       "      <th>3</th>\n",
       "      <td>Honey Roasted Beets</td>\n",
       "      <td>These honey roasted beets combine the natural ...</td>\n",
       "      <td>['3 large beets', '1 tablespoon olive oil', '1...</td>\n",
       "      <td>['Preheat the oven to 375 degrees F (190 degre...</td>\n",
       "      <td>https://www.allrecipes.com/honey-roasted-beets...</td>\n",
       "    </tr>\n",
       "    <tr>\n",
       "      <th>4</th>\n",
       "      <td>Spiral Cucumber Salad</td>\n",
       "      <td>This spiral cucumber salad features a sesame o...</td>\n",
       "      <td>['6 to 8 mini seedless cucumbers', '1/2 yellow...</td>\n",
       "      <td>['Place cucumber between two chopsticks or woo...</td>\n",
       "      <td>https://www.allrecipes.com/spiral-cucumber-sal...</td>\n",
       "    </tr>\n",
       "  </tbody>\n",
       "</table>\n",
       "</div>"
      ]
     },
     "execution_count": 14,
     "metadata": {},
     "output_type": "execute_result"
    }
   ],
   "execution_count": 14
  },
  {
   "metadata": {},
   "cell_type": "markdown",
   "source": "### Mostrar el titulo de todas las recetas",
   "id": "b040e2c208e26311"
  },
  {
   "metadata": {
    "ExecuteTime": {
     "end_time": "2024-08-07T06:56:31.020927Z",
     "start_time": "2024-08-07T06:56:31.008687Z"
    }
   },
   "cell_type": "code",
   "source": [
    "df = df_recipes['Title']\n",
    "df"
   ],
   "id": "c67428fef2e6ee52",
   "outputs": [
    {
     "data": {
      "text/plain": [
       "0                       Raspberry and Strawberry Buckle\n",
       "1                  Copycat Panda Express Orange Chicken\n",
       "2                          Plant Based Cheese Sprinkles\n",
       "3                                   Honey Roasted Beets\n",
       "4                                 Spiral Cucumber Salad\n",
       "5       Turkey Meatballs in Maple-Bourbon Mustard Sauce\n",
       "6                      Italian Marinated Grilled Cheese\n",
       "7                                      Cornmeal Cookies\n",
       "8                 Big Batch Freezer Lemon Drop Martinis\n",
       "9                                Doritos Locos Taco Pie\n",
       "10                        Crispy Air Fryer Potato Bites\n",
       "11                              Frozen Espresso Martini\n",
       "12                    Ground Beef and Broccoli Stir Fry\n",
       "13                       Greek-Style Grilled Lamb Chops\n",
       "14                    One Pan Pasta with Bacon and Peas\n",
       "15                                Doggie Ice Cream Cake\n",
       "16                                   Zucchini Rollatini\n",
       "17                            Chicken Ricotta Meatballs\n",
       "18                   Air Fryer Parmesan Chicken Skewers\n",
       "19                          Grilled Chicken and Peaches\n",
       "20                      Chilaquiles Breakfast Casserole\n",
       "21                                             Bougatsa\n",
       "22                      The Ultimate Croissant Sandwich\n",
       "23                                       Margarita Bars\n",
       "24                                 Iced Pistachio Latte\n",
       "25                           3 Ingredient Ube Ice Cream\n",
       "26                  Creamy Asparagus and Mushroom Pasta\n",
       "27                                      Baked Feta Eggs\n",
       "28                          Pineapple Limoncello Spritz\n",
       "29                   Sweet and Spicy Sweet Potato Bites\n",
       "30                                       Shrimp Biryani\n",
       "31                             Dulce De Leche Ice Cream\n",
       "32                           Zucchini Chicken Casserole\n",
       "33                             Prosciutto Plum Focaccia\n",
       "34                         Jalapeno Popper Potato Salad\n",
       "35    This Copycat Chipotle Honey Vinaigrette Tastes...\n",
       "36                       Ritz Cracker Chicken Casserole\n",
       "37                  Corn Salad with Chili Cheese Fritos\n",
       "38                                          Crispy Corn\n",
       "39                          Copycat Wingstop Cajun Corn\n",
       "40                      Chef John's Hot Water Cornbread\n",
       "41                                       Oysters Casino\n",
       "42                                     Chicken Chasseur\n",
       "43                                              Tartufo\n",
       "44                       Sloppy Joe Cornbread Casserole\n",
       "45                  Buffalo Chicken Tater Tot Casserole\n",
       "46                               Greek Turkey Meatballs\n",
       "47                                       Ginger Chicken\n",
       "48                       French Onion Chicken Casserole\n",
       "49                                     Breakfast Nachos\n",
       "50                    Spinach, Feta, and Rice Casserole\n",
       "51                                       Zucchini Boats\n",
       "52                  Crispy Cheesy Chicken Ranch Patties\n",
       "53                                    Peach Custard Pie\n",
       "54                                         Cajun Caviar\n",
       "55                Creamy Mississippi Chicken Enchiladas\n",
       "56                        Grilled Watermelon Feta Pizza\n",
       "57                                   Chili Bean Chicken\n",
       "58                       Everything Bagel Roast Chicken\n",
       "59                              Country Peach Dumplings\n",
       "Name: Title, dtype: object"
      ]
     },
     "execution_count": 15,
     "metadata": {},
     "output_type": "execute_result"
    }
   ],
   "execution_count": 15
  },
  {
   "metadata": {},
   "cell_type": "markdown",
   "source": "### Mostrar la descripción de todas las recetas",
   "id": "394076b3092f86bb"
  },
  {
   "metadata": {
    "ExecuteTime": {
     "end_time": "2024-08-07T06:58:11.602458Z",
     "start_time": "2024-08-07T06:58:11.575934Z"
    }
   },
   "cell_type": "code",
   "source": [
    "df = df_recipes['Description']\n",
    "df"
   ],
   "id": "55f7a40087ee8de",
   "outputs": [
    {
     "data": {
      "text/plain": [
       "0     I've always called this a buckle (I'm from the...\n",
       "1     Try this copycat recipe to make Panda Express ...\n",
       "2     These plant-based cheese sprinkles came about ...\n",
       "3     These honey roasted beets combine the natural ...\n",
       "4     This spiral cucumber salad features a sesame o...\n",
       "5     These turkey meatballs in maple-bourbon mustar...\n",
       "6     This Italian marinated grilled cheese is made ...\n",
       "7     These cornmeal cookies have a lovely, chewy te...\n",
       "8     These big batch freezer lemon drop martinis, e...\n",
       "9     Try this sizzling doritos locos taco pie with ...\n",
       "10    These crispy air fryer potato bites are crispy...\n",
       "11    This frozen espresso martini is perfect for ho...\n",
       "12    This ground beef and broccoli stir fry is an i...\n",
       "13    These Greek-style grilled lamb chops, seasoned...\n",
       "14    One pan pasta with bacon and peas is an easy w...\n",
       "15    This doggie ice cream cake is for when the tem...\n",
       "16    These zucchini rollatini are ribbons of zucchi...\n",
       "17    These ricotta chicken meatballs are both budge...\n",
       "18    These air fryer Parmesan chicken skewers are c...\n",
       "19    This recipe for grilled chicken and peaches ad...\n",
       "20    This chilaquiles breakfast casserole is made w...\n",
       "21    Bougatsa, a Greek pastry that's delicious for ...\n",
       "22    The ultimate croissant sandwich is this oven-t...\n",
       "23    These margarita bars are perfectly sweet, and ...\n",
       "24    This iced pistachio latte, cool and refreshing...\n",
       "25    This 3 ingredient ube ice cream is super easy ...\n",
       "26    This creamy asparagus and mushroom pasta is a ...\n",
       "27    These baked feta eggs are so very simple to ma...\n",
       "28    This pineapple limoncello spritzer, with fresh...\n",
       "29    These sweet and spicy sweet potato bites, roas...\n",
       "30    This shrimp biryani is aromatic and complex, h...\n",
       "31    This dulce de leche ice cream, with ripples of...\n",
       "32    This zucchini chicken casserole is creamy and ...\n",
       "33    This prosciutto plum focaccia, with prosciutto...\n",
       "34    This jalapeno popper potato salad has the heat...\n",
       "35    This vinaigrette is delicious as-is for toppin...\n",
       "36    This Ritz cracker chicken casserole is a class...\n",
       "37    This corn salad with chili cheese Fritos is a ...\n",
       "38    This simple snack, crispy corn, is made by coa...\n",
       "39    This copycat Wingstop Cajun corn is seasoned w...\n",
       "40    This deep-fried hot water cornbread might be t...\n",
       "41    Oysters casino are a wonderfully decadent appe...\n",
       "42    Chicken chasseur—or chicken, hunter's style—fe...\n",
       "43    Tartufo is a classic Italian dessert that you ...\n",
       "44    This sloppy Joe cornbread casserole pairs the ...\n",
       "45    This Buffalo chicken tater tot casserole taste...\n",
       "46    These Greek turkey meatballs are perfect for y...\n",
       "47    Ginger chicken is a Chinese dish typically mad...\n",
       "48    This French onion chicken casserole is creamy,...\n",
       "49    These breakfast nachos are a play on steak and...\n",
       "50    This spinach, feta, and rice casserole is a pe...\n",
       "51    These zucchini boats, with fork-tender zucchin...\n",
       "52    These crispy cheesy chicken ranch patties, mad...\n",
       "53    This peach custard pie, a cross between peach ...\n",
       "54    This Cajun caviar will be your next favorite p...\n",
       "55    These creamy Mississippi chicken enchiladas ta...\n",
       "56    This grilled watermelon feta pizza is your sho...\n",
       "57    This chili bean chicken, a savory casserole of...\n",
       "58    Everything bagel seasoning is an all-purpose, ...\n",
       "59    For these country peach dumplings, we used fre...\n",
       "Name: Description, dtype: object"
      ]
     },
     "execution_count": 16,
     "metadata": {},
     "output_type": "execute_result"
    }
   ],
   "execution_count": 16
  },
  {
   "metadata": {},
   "cell_type": "markdown",
   "source": "### Mostrar los ingredientes de todas las recetas",
   "id": "7c75a6850ea0c563"
  },
  {
   "metadata": {
    "ExecuteTime": {
     "end_time": "2024-08-07T06:59:14.244433Z",
     "start_time": "2024-08-07T06:59:14.225871Z"
    }
   },
   "cell_type": "code",
   "source": [
    "df = df_recipes['Ingredients']\n",
    "df"
   ],
   "id": "6083dba253622932",
   "outputs": [
    {
     "data": {
      "text/plain": [
       "0     ['½ cup butter, softened', '½ cup white sugar'...\n",
       "1     ['2 cups flour', '1/2 cup cornstarch', '2 teas...\n",
       "2     ['1/2 cup cashews', '1/2 cup nutritional yeast...\n",
       "3     ['3 large beets', '1 tablespoon olive oil', '1...\n",
       "4     ['6 to 8 mini seedless cucumbers', '1/2 yellow...\n",
       "5     ['1/4 cup minced onion', '6 tablespoons panko ...\n",
       "6     ['1 clove garlic, minced', '1 tablespoon white...\n",
       "7     ['1/2 cup unsalted butter, softened', '3/4 cup...\n",
       "8     ['1 3/4 cups vodka', '1/2 cup freshly squeezed...\n",
       "9     ['2 teaspoons olive oil', '1/2 cup finely chop...\n",
       "10    ['1 pound red potatoes, cut into 1-inch cubes'...\n",
       "11    ['3 cups freshly brewed espresso', '1 cup simp...\n",
       "12    ['1 cup lower-sodium beef broth', '1/4 cup low...\n",
       "13    ['8 cloves garlic, crushed', '6 tablespoons ex...\n",
       "14    ['8 ounces bacon, diced', '1/2 cup diced onion...\n",
       "15    ['1 (32 ounce) container Greek yogurt', '1 (16...\n",
       "16    ['2 (12 ounce) zucchinis, sliced lengthwise in...\n",
       "17    ['2 teaspoons oil', '1/2 white onion, finely d...\n",
       "18    ['1 1/4 pounds chicken breast tenders', '2 tea...\n",
       "19    ['2 pounds skinless, boneless chicken breasts,...\n",
       "20    ['1 (20 ounce) can red enchilada sauce', '1 cu...\n",
       "21    ['4 large eggs, at room temperature', '2/3 cup...\n",
       "22    ['2 large croissants, split', '6 slices deli h...\n",
       "23    ['cooking spray', '1 3/4 cups finely ground gr...\n",
       "24    ['1 tablespoon pistachio cream', '6 fluid ounc...\n",
       "25    ['2 cups heavy cream', '1 (10 ounce) can ube s...\n",
       "26    ['8 ounces fettuccine', '1 tablespoon olive oi...\n",
       "27    ['2 small tomatoes, diced (such as Campari®)',...\n",
       "28    ['1 1/2 fluid ounces limoncello', '4 fresh bas...\n",
       "29    ['1 tablespoon onion powder', '1 tablespoon ga...\n",
       "30    ['2 cups uncooked aged basmati rice', '6 table...\n",
       "31    ['1 (13.4 ounce) can dulce de leche', '2 cups ...\n",
       "32    ['1 tablespoon olive oil', '2 (8 ounce) zucchi...\n",
       "33    ['1 packet active dry yeast', '1 cup warm wate...\n",
       "34    ['10 slices bacon', '3 pounds red potatoes, cu...\n",
       "35    ['2 chipotles in adobo with 1 tablespoon of th...\n",
       "36    ['8 cups packed shredded rotisserie chicken (f...\n",
       "37    ['5 ears fresh corn in husks', '1 red bell pep...\n",
       "38    ['3 cups oil for frying', '2 (15 ounce) cans s...\n",
       "39    ['4 ears fresh yellow corn', '2 tablespoons ol...\n",
       "40    ['2 cups cornmeal', '1/4 cup all-purpose flour...\n",
       "41    ['3 slices thick-cut bacon, cut crosswise into...\n",
       "42    ['4 (8 ounce) bone-in, skin-on chicken thighs'...\n",
       "43    ['1 quart vanilla ice cream (such as Haagen Da...\n",
       "44    ['cooking spray', '2 pounds ground chuck', '2 ...\n",
       "45    ['cooking spray', '1 (10.5 ounce) can cream of...\n",
       "46    ['nonstick cooking spray', '1 pound ground tur...\n",
       "47    ['1/4 cup packed light brown sugar', '3 tables...\n",
       "48    ['2 tablespoons unsalted butter', '1 1/2 cups ...\n",
       "49    ['3/4 cup packed fresh cilantro leaves and ten...\n",
       "50    ['1 cup thinly sliced scallions', '1/4 cup dra...\n",
       "51    ['4 (8 ounce) zucchini', '1 teaspoon dried Ita...\n",
       "52    ['1 1/2 pounds skinless, boneless chicken brea...\n",
       "53    ['1 ready-to-bake single pie crust shell', '2 ...\n",
       "54    ['6 ounces Monterey Jack cheese, shredded', '6...\n",
       "55    ['2 pounds skinless, boneless chicken breasts'...\n",
       "56    ['1/2 red onion\\xa0thinly sliced', '1/4 cup re...\n",
       "57    ['1 cup roasted tomato salsa', '1/2 cup ketchu...\n",
       "58    ['4 whole leg quarters, with skin', '1/4 cup o...\n",
       "59    ['2 large fresh peaches, halved and pitted', '...\n",
       "Name: Ingredients, dtype: object"
      ]
     },
     "execution_count": 17,
     "metadata": {},
     "output_type": "execute_result"
    }
   ],
   "execution_count": 17
  }
 ],
 "metadata": {
  "kernelspec": {
   "display_name": "Python 3 (ipykernel)",
   "name": "python3",
   "language": "python"
  },
  "language_info": {
   "codemirror_mode": {
    "name": "ipython",
    "version": 2
   },
   "file_extension": ".py",
   "mimetype": "text/x-python",
   "name": "python",
   "nbconvert_exporter": "python",
   "pygments_lexer": "ipython2",
   "version": "2.7.6"
  },
  "colab": {
   "provenance": [],
   "gpuType": "T4"
  },
  "accelerator": "GPU"
 },
 "nbformat": 4,
 "nbformat_minor": 5
}
